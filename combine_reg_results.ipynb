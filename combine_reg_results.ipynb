{
 "cells": [
  {
   "cell_type": "code",
   "execution_count": null,
   "id": "cf289563",
   "metadata": {},
   "outputs": [],
   "source": [
    "#Saving the results to JSON file\n",
    "import json\n",
    "\n",
    "for i in range(18):\n",
    "    with open(f\"regression_results/regression_results_{i}.json\", \"r\") as f:\n",
    "        data = json.load(f)"
   ]
  }
 ],
 "metadata": {
  "kernelspec": {
   "display_name": "HistMethods",
   "language": "python",
   "name": "python3"
  },
  "language_info": {
   "name": "python",
   "version": "3.11.4"
  }
 },
 "nbformat": 4,
 "nbformat_minor": 5
}
